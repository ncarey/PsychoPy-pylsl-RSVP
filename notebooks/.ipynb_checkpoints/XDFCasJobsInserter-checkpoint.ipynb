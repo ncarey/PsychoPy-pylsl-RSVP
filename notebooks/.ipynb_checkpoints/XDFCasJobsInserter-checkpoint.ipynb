{
 "cells": [
  {
   "cell_type": "code",
   "execution_count": 1,
   "metadata": {},
   "outputs": [],
   "source": [
    "# After the xdf file has been uploaded to [sciserver_xdf_path] \n",
    "# and the stimulation files have been uploaded to their respective directories in\n",
    "# [sciserver_stim_dir]/[dataset_name]/[stim_class]/\n",
    "# This class is responsible for parsing and inserting the uploaded data files into \n",
    "# the CasJobs tables: sessions, session_eeg, image_stims, stim_timestamps\n",
    "\n",
    "from SciServer import CasJobs, Files, Authentication\n",
    "import pandas                                # data analysis tools\n",
    "import numpy as np                           # numerical tools\n",
    "from datetime import datetime, timedelta     # date and timestamp tools\n",
    "from pprint import pprint\n",
    "import sys\n",
    "import os.path\n",
    "import datetime\n",
    "\n",
    "#BELOW is necessary since we are not currently running from project directory\n",
    "#since we need to import libs from parent dir, need to add parent dir to path\n",
    "project_path = '/home/idies/workspace/Storage/ncarey/persistent/PULSD/PsychoPy-pylsl-RSVP/'\n",
    "if project_path not in sys.path:\n",
    "    sys.path.append(project_path)\n",
    "\n",
    "from xdf.Python.xdf import load_xdf\n",
    "\n"
   ]
  },
  {
   "cell_type": "code",
   "execution_count": null,
   "metadata": {},
   "outputs": [],
   "source": [
    "\n",
    "class XDFCasJobsInserter:\n",
    "    \n",
    "    def xdfToDataframe(self):\n",
    "    \n",
    "    def updateSessionsTable(self):\n",
    "        #We are going to do an overwrite. If an entry exists with same file_path, delete entry and reinsert.\n",
    "        \n",
    "    def updateSessionEEGTable(self):\n",
    "        \n",
    "    def updateImageStimsTable(self):\n",
    "        \n",
    "    def updateStimTimestampsTable(self):\n",
    "        \n",
    "        \n",
    "    \n",
    "    def __init__(self, casjobs_context='MyDB',\n",
    "                 xdf_dir='/home/idies/workspace/Storage/ncarey/persistent/PULSD/data_backup/',\n",
    "                 subject_name=\"Nick Carey\",\n",
    "                 dataset_name=\"HiddenCube\",\n",
    "                 session_stim_length_ms=233.3,\n",
    "                 session_datetime=datetime.datetime.now()\n",
    "                 session_name, session_desc):\n",
    "        \n",
    "        self.casjobs_context = casjobs_context\n",
    "        self.xdf_dir = xdf_dir\n",
    "        self.subject_name = subject_name\n",
    "        self.dataset_name = dataset_nam\n",
    "        self.session_stim_length_ms = session_stim_length_ms\n",
    "        self.session_name = session_name\n",
    "        self.session_desc = session_desc\n",
    "        \n",
    "        session_ID_df = CasJobs.executeQuery(sql='SELECT MAX(session_ID) from sessions', \n",
    "                                             context=self.casjobs_context)\n",
    "        self.session_ID = 0\n",
    "        if session_ID_df['Column1'][0] is None:\n",
    "            self.session_ID = 0\n",
    "        else:\n",
    "            self.session_ID = int(session_ID_df['Column1'][0]) + 1\n",
    "            \n",
    "        self.session_datetime = session_datetime\n",
    "\n",
    "        \n",
    "        \n",
    "\n"
   ]
  }
 ],
 "metadata": {
  "kernelspec": {
   "display_name": "Python 3",
   "language": "python",
   "name": "python3"
  },
  "language_info": {
   "codemirror_mode": {
    "name": "ipython",
    "version": 3
   },
   "file_extension": ".py",
   "mimetype": "text/x-python",
   "name": "python",
   "nbconvert_exporter": "python",
   "pygments_lexer": "ipython3",
   "version": "3.6.6"
  }
 },
 "nbformat": 4,
 "nbformat_minor": 2
}
